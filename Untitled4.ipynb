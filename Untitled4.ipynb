{
 "cells": [
  {
   "cell_type": "code",
   "execution_count": 2,
   "id": "760cc328",
   "metadata": {},
   "outputs": [
    {
     "name": "stdout",
     "output_type": "stream",
     "text": [
      "Python:Exercises:PHP:exercises:\n"
     ]
    }
   ],
   "source": [
    "#ANSWER 1\n",
    "import re\n",
    "sample_text = 'Python Exercises PHP exercises.'\n",
    "output = re.sub(r'[ ,.]', ':', sample_text)\n",
    "print(output)"
   ]
  },
  {
   "cell_type": "code",
   "execution_count": 3,
   "id": "5dd78709",
   "metadata": {},
   "outputs": [
    {
     "name": "stdout",
     "output_type": "stream",
     "text": [
      "         SUMMARY\n",
      "0    hello world\n",
      "1     XXXXX test\n",
      "2  four five six\n"
     ]
    }
   ],
   "source": [
    "#ANSWER 2\n",
    "import pandas as pd\n",
    "import re\n",
    "\n",
    "data = {'SUMMARY': ['hello world!', 'XXXXX test', '123four five:; six...']}\n",
    "df = pd.DataFrame(data)\n",
    "df['SUMMARY'] = df['SUMMARY'].apply(lambda x: re.sub(r'[^A-Za-z\\s]', '', x))\n",
    "print(df)"
   ]
  },
  {
   "cell_type": "code",
   "execution_count": null,
   "id": "721ff53c",
   "metadata": {},
   "outputs": [],
   "source": [
    "#ANSWER 3\n",
    "import re\n",
    "def find_words(text):\n",
    "    pattern = re.compile(r'\\b\\w{4,}\\b')\n",
    "    return pattern.findall(text)"
   ]
  },
  {
   "cell_type": "code",
   "execution_count": null,
   "id": "2364470c",
   "metadata": {},
   "outputs": [],
   "source": [
    "#ANSWER 4\n",
    "import re\n",
    "def find_words(text):\n",
    "    pattern = re.compile(r'\\b\\w{4,}\\b')\n",
    "    return pattern.findall(text)"
   ]
  },
  {
   "cell_type": "code",
   "execution_count": 4,
   "id": "0c2fe9bd",
   "metadata": {},
   "outputs": [
    {
     "name": "stdout",
     "output_type": "stream",
     "text": [
      "['example', 'hr@fliprobo', 'github', 'Hello', 'Data']\n"
     ]
    }
   ],
   "source": [
    "#ANSWER 5\n",
    "import re\n",
    "def remove_parentheses(texts):\n",
    "    pattern = re.compile(r'\\s?\\(.*?\\)')\n",
    "    return [re.sub(pattern, '', text) for text in texts]\n",
    "\n",
    "sample_text = [\"example (.com)\", \"hr@fliprobo (.com)\", \"github (.com)\", \"Hello (Data Science World)\", \"Data (Scientist)\"]\n",
    "output = remove_parentheses(sample_text)\n",
    "print(output)"
   ]
  },
  {
   "cell_type": "code",
   "execution_count": null,
   "id": "d486144a",
   "metadata": {},
   "outputs": [],
   "source": [
    "#ANSWER 6\n",
    "import re\n",
    "\n",
    "with open('sample.txt', 'r') as file:\n",
    "    content = file.read()\n",
    "\n",
    "pattern = re.compile(r'\\s?\\(.*?\\)')\n",
    "output = re.sub(pattern, '', content)\n",
    "print(output)"
   ]
  },
  {
   "cell_type": "code",
   "execution_count": null,
   "id": "bd43b87e",
   "metadata": {},
   "outputs": [],
   "source": [
    "#ANSWER 7\n",
    "import re\n",
    "text = \"ImportanceOfRegularExpressionsInPython\"\n",
    "output = re.findall('[A-Z][^A-Z]*', text)\n",
    "print(output)"
   ]
  },
  {
   "cell_type": "code",
   "execution_count": null,
   "id": "9f5c4841",
   "metadata": {},
   "outputs": [],
   "source": [
    "#ANSWER 8\n",
    "import re\n",
    "def insert_spaces(text):\n",
    "    pattern = re.compile(r'(\\d)')\n",
    "    return re.sub(pattern, r' \\1', text)"
   ]
  },
  {
   "cell_type": "code",
   "execution_count": null,
   "id": "0d84d762",
   "metadata": {},
   "outputs": [],
   "source": [
    "#ANSWER 9\n",
    "import re\n",
    "def insert_spaces_capital_numbers(text):\n",
    "    pattern = re.compile(r'([A-Z0-9])')\n",
    "    return re.sub(pattern, r' \\1', text)"
   ]
  },
  {
   "cell_type": "code",
   "execution_count": 5,
   "id": "3c05ca48",
   "metadata": {},
   "outputs": [
    {
     "name": "stdout",
     "output_type": "stream",
     "text": [
      "         Country first_five_letters\n",
      "0    Switzerland             Switze\n",
      "1        Iceland             Icelan\n",
      "2        Denmark             Denmar\n",
      "3         Norway             Norway\n",
      "4         Canada             Canada\n",
      "..           ...                ...\n",
      "153       Rwanda             Rwanda\n",
      "154        Benin              Benin\n",
      "155        Syria              Syria\n",
      "156      Burundi             Burund\n",
      "157         Togo               Togo\n",
      "\n",
      "[158 rows x 2 columns]\n"
     ]
    }
   ],
   "source": [
    "#ANSWER 10\n",
    "import pandas as pd\n",
    "\n",
    "df = pd.read_csv('https://raw.githubusercontent.com/dsrscientist/DSData/master/happiness_score_dataset.csv')\n",
    "df['first_five_letters'] = df['Country'].apply(lambda x: x[:6])\n",
    "print(df[['Country', 'first_five_letters']])"
   ]
  },
  {
   "cell_type": "code",
   "execution_count": null,
   "id": "ed81ba08",
   "metadata": {},
   "outputs": [],
   "source": [
    "#ANSWER 11\n",
    "import re\n",
    "text = 'Hello_world123'\n",
    "if re.match(r'^\\w+$', text):\n",
    "    print('Match')"
   ]
  },
  {
   "cell_type": "code",
   "execution_count": null,
   "id": "ca2a49f1",
   "metadata": {},
   "outputs": [],
   "source": [
    "#ANSWER 12\n",
    "import re\n",
    "pattern = re.compile(r'^5')"
   ]
  },
  {
   "cell_type": "code",
   "execution_count": null,
   "id": "037dc473",
   "metadata": {},
   "outputs": [],
   "source": [
    "#ANSWER 13\n",
    "import re\n",
    "def remove_leading_zeros(ip):\n",
    "    return re.sub(r'\\b0+(?!\\b)', '', ip)\n"
   ]
  },
  {
   "cell_type": "code",
   "execution_count": null,
   "id": "c41d0670",
   "metadata": {},
   "outputs": [],
   "source": [
    "#ANSWER 14\n",
    "import re\n",
    "\n",
    "with open('sample.txt', 'r') as file:\n",
    "    content = file.read()\n",
    "\n",
    "pattern = re.compile(r'\\b[A-Za-z]+\\s\\d{1,2}\\w{2}\\s\\d{4}\\b')\n",
    "matches = pattern.findall(content)\n",
    "print(matches)"
   ]
  },
  {
   "cell_type": "code",
   "execution_count": null,
   "id": "8bf1ecf4",
   "metadata": {},
   "outputs": [],
   "source": [
    "#ANSWER 15\n",
    "import re\n",
    "text = 'The quick brown fox jumps over the lazy dog.'\n",
    "words = ['fox', 'dog', 'horse']\n",
    "for word in words:\n",
    "    if re.search(word, text):\n",
    "        print(f'{word} found')"
   ]
  },
  {
   "cell_type": "code",
   "execution_count": null,
   "id": "9abacf4e",
   "metadata": {},
   "outputs": [],
   "source": [
    "#ANSWER 16\n",
    "import re\n",
    "text = 'The quick brown fox jumps over the lazy dog.'\n",
    "match = re.search(r'fox', text)\n",
    "if match:\n",
    "    print(f'Found at position {match.start()}')"
   ]
  },
  {
   "cell_type": "code",
   "execution_count": null,
   "id": "97616f0d",
   "metadata": {},
   "outputs": [],
   "source": [
    "#ANSWER 17\n",
    "import re\n",
    "text = 'Python exercises PHP exercises C# exercises'\n",
    "pattern = re.compile('exercises')\n",
    "matches = pattern.findall(text)\n",
    "print(matches)"
   ]
  },
  {
   "cell_type": "code",
   "execution_count": null,
   "id": "6a6e5aa9",
   "metadata": {},
   "outputs": [],
   "source": [
    "#ANSWER 18\n",
    "import re\n",
    "text = 'Python exercises PHP exercises C# exercises'\n",
    "pattern = re.compile('exercises')\n",
    "matches = pattern.finditer(text)\n",
    "for match in matches:\n",
    "    print(f'Found at {match.start()}')"
   ]
  },
  {
   "cell_type": "code",
   "execution_count": null,
   "id": "6ce06080",
   "metadata": {},
   "outputs": [],
   "source": [
    "#ANSWER 19\n",
    "import re\n",
    "text = '2023-08-15'\n",
    "output = re.sub(r'(\\d{4})-(\\d{2})-(\\d{2})', r'\\3-\\2-\\1', text)\n",
    "print(output)"
   ]
  },
  {
   "cell_type": "code",
   "execution_count": null,
   "id": "92325822",
   "metadata": {},
   "outputs": [],
   "source": [
    "#ANSWER 20\n",
    "import re\n",
    "def find_decimals(text):\n",
    "    pattern = re.compile(r'\\d+\\.\\d{1,2}')\n",
    "    return pattern.findall(text)"
   ]
  },
  {
   "cell_type": "code",
   "execution_count": null,
   "id": "a8bc1cc6",
   "metadata": {},
   "outputs": [],
   "source": [
    "#ANSWER 21\n",
    "import re\n",
    "def find_numbers_positions(text):\n",
    "    for match in re.finditer(r'\\d+', text):\n",
    "        print(f'Number: {match.group()}, Position: {match.start()}')"
   ]
  },
  {
   "cell_type": "code",
   "execution_count": null,
   "id": "d9524e32",
   "metadata": {},
   "outputs": [],
   "source": [
    "#ANSWER 22\n",
    "import re\n",
    "text = 'My marks in each semester are: 947 896 926 524 734 950 642'\n",
    "numbers = list(map(int, re.findall(r'\\d+', text)))\n",
    "print(max(numbers))"
   ]
  },
  {
   "cell_type": "code",
   "execution_count": null,
   "id": "08a8cbdd",
   "metadata": {},
   "outputs": [],
   "source": [
    "#ANSWER 23\n",
    "import re\n",
    "def insert_spaces_capital(text):\n",
    "    pattern = re.compile(r'([A-Z])')\n",
    "    return re.sub(pattern, r' \\1', text).strip()"
   ]
  },
  {
   "cell_type": "code",
   "execution_count": 8,
   "id": "7537a453",
   "metadata": {},
   "outputs": [],
   "source": [
    "#ANSWER 24\n",
    "import re\n",
    "pattern = re.compile(r'[A-Z][a-z]+')"
   ]
  },
  {
   "cell_type": "code",
   "execution_count": 7,
   "id": "696a01b6",
   "metadata": {},
   "outputs": [
    {
     "name": "stdout",
     "output_type": "stream",
     "text": [
      "Hello hello world\n"
     ]
    }
   ],
   "source": [
    "#ANSWER 25\n",
    "import re\n",
    "text = \"Hello hello world world\"\n",
    "output = re.sub(r'\\b(\\w+)\\s+\\1\\b', r'\\1', text)\n",
    "print(output)"
   ]
  },
  {
   "cell_type": "code",
   "execution_count": null,
   "id": "e2535a92",
   "metadata": {},
   "outputs": [],
   "source": [
    "#ANSWER 26\n",
    "import re\n",
    "pattern = re.compile(r'\\w+$')"
   ]
  },
  {
   "cell_type": "code",
   "execution_count": 9,
   "id": "a9ad2bba",
   "metadata": {},
   "outputs": [
    {
     "name": "stdout",
     "output_type": "stream",
     "text": [
      "['#Doltiwal', '#xyzabc', '#Demonetization']\n"
     ]
    }
   ],
   "source": [
    "#ANSWER 27\n",
    "import re\n",
    "text = \"\"\"RT @kapil_kausik: #Doltiwal I mean #xyzabc is \"hurt\" by #Demonetization\"\"\"\n",
    "hashtags = re.findall(r'#\\w+', text)\n",
    "print(hashtags)"
   ]
  },
  {
   "cell_type": "code",
   "execution_count": null,
   "id": "cad1212a",
   "metadata": {},
   "outputs": [],
   "source": [
    "#ANSWER 28\n",
    "import re\n",
    "text = \"@Jags123456 Bharat band on 28??<ed><U+00A0><U+00BD><ed>\"\n",
    "output = re.sub(r'<U\\+[\\dA-F]+>', '', text)\n",
    "print(output)"
   ]
  },
  {
   "cell_type": "code",
   "execution_count": 10,
   "id": "e02f94d7",
   "metadata": {},
   "outputs": [
    {
     "ename": "FileNotFoundError",
     "evalue": "[Errno 2] No such file or directory: 'sample.txt'",
     "output_type": "error",
     "traceback": [
      "\u001b[1;31m---------------------------------------------------------------------------\u001b[0m",
      "\u001b[1;31mFileNotFoundError\u001b[0m                         Traceback (most recent call last)",
      "Cell \u001b[1;32mIn[10], line 4\u001b[0m\n\u001b[0;32m      1\u001b[0m \u001b[38;5;66;03m#ANSWER 29\u001b[39;00m\n\u001b[0;32m      2\u001b[0m \u001b[38;5;28;01mimport\u001b[39;00m \u001b[38;5;21;01mre\u001b[39;00m\n\u001b[1;32m----> 4\u001b[0m \u001b[38;5;28;01mwith\u001b[39;00m \u001b[38;5;28mopen\u001b[39m(\u001b[38;5;124m'\u001b[39m\u001b[38;5;124msample.txt\u001b[39m\u001b[38;5;124m'\u001b[39m, \u001b[38;5;124m'\u001b[39m\u001b[38;5;124mr\u001b[39m\u001b[38;5;124m'\u001b[39m) \u001b[38;5;28;01mas\u001b[39;00m file:\n\u001b[0;32m      5\u001b[0m     content \u001b[38;5;241m=\u001b[39m file\u001b[38;5;241m.\u001b[39mread()\n\u001b[0;32m      7\u001b[0m dates \u001b[38;5;241m=\u001b[39m re\u001b[38;5;241m.\u001b[39mfindall(\u001b[38;5;124mr\u001b[39m\u001b[38;5;124m'\u001b[39m\u001b[38;5;124m\\\u001b[39m\u001b[38;5;124md\u001b[39m\u001b[38;5;132;01m{2}\u001b[39;00m\u001b[38;5;124m-\u001b[39m\u001b[38;5;124m\\\u001b[39m\u001b[38;5;124md\u001b[39m\u001b[38;5;132;01m{2}\u001b[39;00m\u001b[38;5;124m-\u001b[39m\u001b[38;5;124m\\\u001b[39m\u001b[38;5;124md\u001b[39m\u001b[38;5;132;01m{4}\u001b[39;00m\u001b[38;5;124m'\u001b[39m, content)\n",
      "File \u001b[1;32m~\\anaconda3\\Lib\\site-packages\\IPython\\core\\interactiveshell.py:286\u001b[0m, in \u001b[0;36m_modified_open\u001b[1;34m(file, *args, **kwargs)\u001b[0m\n\u001b[0;32m    279\u001b[0m \u001b[38;5;28;01mif\u001b[39;00m file \u001b[38;5;129;01min\u001b[39;00m {\u001b[38;5;241m0\u001b[39m, \u001b[38;5;241m1\u001b[39m, \u001b[38;5;241m2\u001b[39m}:\n\u001b[0;32m    280\u001b[0m     \u001b[38;5;28;01mraise\u001b[39;00m \u001b[38;5;167;01mValueError\u001b[39;00m(\n\u001b[0;32m    281\u001b[0m         \u001b[38;5;124mf\u001b[39m\u001b[38;5;124m\"\u001b[39m\u001b[38;5;124mIPython won\u001b[39m\u001b[38;5;124m'\u001b[39m\u001b[38;5;124mt let you open fd=\u001b[39m\u001b[38;5;132;01m{\u001b[39;00mfile\u001b[38;5;132;01m}\u001b[39;00m\u001b[38;5;124m by default \u001b[39m\u001b[38;5;124m\"\u001b[39m\n\u001b[0;32m    282\u001b[0m         \u001b[38;5;124m\"\u001b[39m\u001b[38;5;124mas it is likely to crash IPython. If you know what you are doing, \u001b[39m\u001b[38;5;124m\"\u001b[39m\n\u001b[0;32m    283\u001b[0m         \u001b[38;5;124m\"\u001b[39m\u001b[38;5;124myou can use builtins\u001b[39m\u001b[38;5;124m'\u001b[39m\u001b[38;5;124m open.\u001b[39m\u001b[38;5;124m\"\u001b[39m\n\u001b[0;32m    284\u001b[0m     )\n\u001b[1;32m--> 286\u001b[0m \u001b[38;5;28;01mreturn\u001b[39;00m io_open(file, \u001b[38;5;241m*\u001b[39margs, \u001b[38;5;241m*\u001b[39m\u001b[38;5;241m*\u001b[39mkwargs)\n",
      "\u001b[1;31mFileNotFoundError\u001b[0m: [Errno 2] No such file or directory: 'sample.txt'"
     ]
    }
   ],
   "source": [
    "#ANSWER 29\n",
    "import re\n",
    "\n",
    "with open('sample.txt', 'r') as file:\n",
    "    content = file.read()\n",
    "\n",
    "dates = re.findall(r'\\d{2}-\\d{2}-\\d{4}', content)\n",
    "print(dates)"
   ]
  },
  {
   "cell_type": "code",
   "execution_count": 11,
   "id": "8f09d0e5",
   "metadata": {},
   "outputs": [],
   "source": [
    "#ANSWER 30\n",
    "import re\n",
    "def remove_short_words(text):\n",
    "    pattern = re.compile(r'\\b\\w{2,4}\\b')\n",
    "    return pattern.sub('', text)"
   ]
  },
  {
   "cell_type": "code",
   "execution_count": null,
   "id": "80b24c67",
   "metadata": {},
   "outputs": [],
   "source": []
  }
 ],
 "metadata": {
  "kernelspec": {
   "display_name": "Python 3 (ipykernel)",
   "language": "python",
   "name": "python3"
  },
  "language_info": {
   "codemirror_mode": {
    "name": "ipython",
    "version": 3
   },
   "file_extension": ".py",
   "mimetype": "text/x-python",
   "name": "python",
   "nbconvert_exporter": "python",
   "pygments_lexer": "ipython3",
   "version": "3.11.5"
  }
 },
 "nbformat": 4,
 "nbformat_minor": 5
}
