{
 "cells": [
  {
   "cell_type": "code",
   "execution_count": null,
   "id": "52b86bd7",
   "metadata": {},
   "outputs": [],
   "source": [
    "Q11. Write a Python program to find the factorial of a number."
   ]
  },
  {
   "cell_type": "code",
   "execution_count": 26,
   "id": "20da1f07",
   "metadata": {},
   "outputs": [
    {
     "name": "stdout",
     "output_type": "stream",
     "text": [
      "The factorial of 5 is 120\n"
     ]
    }
   ],
   "source": [
    "number = 5\n",
    "print(f\"The factorial of {number} is {factorial(number)}\")"
   ]
  },
  {
   "cell_type": "code",
   "execution_count": 27,
   "id": "5a4c1542",
   "metadata": {},
   "outputs": [
    {
     "ename": "SyntaxError",
     "evalue": "invalid syntax (1050541870.py, line 1)",
     "output_type": "error",
     "traceback": [
      "\u001b[1;36m  Cell \u001b[1;32mIn[27], line 1\u001b[1;36m\u001b[0m\n\u001b[1;33m    Q12. Write a Python program to find whether a number is prime or composite.\u001b[0m\n\u001b[1;37m               ^\u001b[0m\n\u001b[1;31mSyntaxError\u001b[0m\u001b[1;31m:\u001b[0m invalid syntax\n"
     ]
    }
   ],
   "source": [
    "Q12. Write a Python program to find whether a number is prime or composite."
   ]
  },
  {
   "cell_type": "code",
   "execution_count": 35,
   "id": "6d2a40a9",
   "metadata": {},
   "outputs": [
    {
     "name": "stdout",
     "output_type": "stream",
     "text": [
      "29 is a prime number.\n"
     ]
    }
   ],
   "source": [
    "def is_prime(n):\n",
    "    if n <= 1:\n",
    "        return False\n",
    "    for i in range(2, int(n ** 0.5) + 1):\n",
    "        if n % i == 0:\n",
    "            return False\n",
    "    return True\n",
    "\n",
    "def check_prime_composite(n):\n",
    "    if n <= 1:\n",
    "        return f\"{n} is neither prime nor composite.\"\n",
    "    elif is_prime(n):\n",
    "        return f\"{n} is a prime number.\"\n",
    "    else:\n",
    "        return f\"{n} is a composite number.\"\n",
    "number = 29\n",
    "print(check_prime_composite(number))\n"
   ]
  },
  {
   "cell_type": "code",
   "execution_count": 29,
   "id": "ca023090",
   "metadata": {},
   "outputs": [
    {
     "ename": "SyntaxError",
     "evalue": "invalid syntax (4144886678.py, line 1)",
     "output_type": "error",
     "traceback": [
      "\u001b[1;36m  Cell \u001b[1;32mIn[29], line 1\u001b[1;36m\u001b[0m\n\u001b[1;33m    Q13. Write a Python program to check whether a given string is a palindrome or not.\u001b[0m\n\u001b[1;37m               ^\u001b[0m\n\u001b[1;31mSyntaxError\u001b[0m\u001b[1;31m:\u001b[0m invalid syntax\n"
     ]
    }
   ],
   "source": [
    "Q13. Write a Python program to check whether a given string is a palindrome or not."
   ]
  },
  {
   "cell_type": "code",
   "execution_count": 30,
   "id": "44acbdb1",
   "metadata": {},
   "outputs": [
    {
     "name": "stdout",
     "output_type": "stream",
     "text": [
      "'A man, a plan, a canal, Panama' is a palindrome.\n"
     ]
    }
   ],
   "source": [
    "string = \"A man, a plan, a canal, Panama\"\n",
    "if is_palindrome(string):\n",
    "    print(f\"'{string}' is a palindrome.\")\n",
    "else:\n",
    "    print(f\"'{string}' is not a palindrome.\")\n"
   ]
  },
  {
   "cell_type": "code",
   "execution_count": 31,
   "id": "ee190002",
   "metadata": {},
   "outputs": [
    {
     "ename": "SyntaxError",
     "evalue": "invalid syntax (2508637123.py, line 1)",
     "output_type": "error",
     "traceback": [
      "\u001b[1;36m  Cell \u001b[1;32mIn[31], line 1\u001b[1;36m\u001b[0m\n\u001b[1;33m    Q14. Write a Python program to get the third side of a right-angled triangle from two given sides.\u001b[0m\n\u001b[1;37m               ^\u001b[0m\n\u001b[1;31mSyntaxError\u001b[0m\u001b[1;31m:\u001b[0m invalid syntax\n"
     ]
    }
   ],
   "source": [
    "Q14. Write a Python program to get the third side of a right-angled triangle from two given sides."
   ]
  },
  {
   "cell_type": "code",
   "execution_count": 32,
   "id": "da90a33c",
   "metadata": {},
   "outputs": [
    {
     "name": "stdout",
     "output_type": "stream",
     "text": [
      "The hypotenuse is 5.0\n",
      "The other side is 4.0\n"
     ]
    }
   ],
   "source": [
    "side1 = 3\n",
    "side2 = 4\n",
    "hypotenuse = find_third_side(side1, side2)\n",
    "print(f\"The hypotenuse is {hypotenuse}\")\n",
    "hypotenuse = 5\n",
    "side = 3\n",
    "third_side = find_third_side(hypotenuse, side, is_hypotenuse=True)\n",
    "print(f\"The other side is {third_side}\")"
   ]
  },
  {
   "cell_type": "code",
   "execution_count": 33,
   "id": "bc00c10c",
   "metadata": {},
   "outputs": [
    {
     "ename": "SyntaxError",
     "evalue": "invalid syntax (2339681574.py, line 1)",
     "output_type": "error",
     "traceback": [
      "\u001b[1;36m  Cell \u001b[1;32mIn[33], line 1\u001b[1;36m\u001b[0m\n\u001b[1;33m    Q15. Write a Python program to print the frequency of each of the characters present in a given string.\u001b[0m\n\u001b[1;37m               ^\u001b[0m\n\u001b[1;31mSyntaxError\u001b[0m\u001b[1;31m:\u001b[0m invalid syntax\n"
     ]
    }
   ],
   "source": [
    "Q15. Write a Python program to print the frequency of each of the characters present in a given string."
   ]
  },
  {
   "cell_type": "code",
   "execution_count": 34,
   "id": "8ba655a6",
   "metadata": {},
   "outputs": [
    {
     "name": "stdout",
     "output_type": "stream",
     "text": [
      "Character frequencies:\n",
      "'H': 1\n",
      "'e': 1\n",
      "'l': 3\n",
      "'o': 2\n",
      "'W': 1\n",
      "'r': 1\n",
      "'d': 1\n"
     ]
    }
   ],
   "source": [
    "string = \"Hello World!\"\n",
    "frequency = char_frequency(string)\n",
    "print(\"Character frequencies:\")\n",
    "for char, count in frequency.items():\n",
    "    print(f\"'{char}': {count}\")\n"
   ]
  }
 ],
 "metadata": {
  "kernelspec": {
   "display_name": "Python 3 (ipykernel)",
   "language": "python",
   "name": "python3"
  },
  "language_info": {
   "codemirror_mode": {
    "name": "ipython",
    "version": 3
   },
   "file_extension": ".py",
   "mimetype": "text/x-python",
   "name": "python",
   "nbconvert_exporter": "python",
   "pygments_lexer": "ipython3",
   "version": "3.11.5"
  }
 },
 "nbformat": 4,
 "nbformat_minor": 5
}
