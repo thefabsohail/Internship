{
 "cells": [
  {
   "cell_type": "code",
   "execution_count": 11,
   "id": "097d2e42",
   "metadata": {},
   "outputs": [
    {
     "name": "stdout",
     "output_type": "stream",
     "text": [
      "Empty DataFrame\n",
      "Columns: [Name, Year, Rating]\n",
      "Index: []\n"
     ]
    }
   ],
   "source": [
    "import requests\n",
    "from bs4 import BeautifulSoup\n",
    "import pandas as pd\n",
    "\n",
    "url = \"https://www.imdb.com/list/ls056092300/\"\n",
    "response = requests.get(url)\n",
    "soup = BeautifulSoup(response.content, 'html.parser')\n",
    "\n",
    "movies = soup.find_all('div', class_='lister-item mode-detail')\n",
    "\n",
    "movie_names = []\n",
    "movie_ratings = []\n",
    "movie_years = []\n",
    "\n",
    "for movie in movies:\n",
    "    name = movie.h3.a.text\n",
    "    year = movie.find('span', class_='lister-item-year').text.strip('()')\n",
    "    rating = movie.find('span', class_='ipl-rating-star__rating').text\n",
    "    \n",
    "    movie_names.append(name)\n",
    "    movie_years.append(year)\n",
    "    movie_ratings.append(rating)\n",
    "\n",
    "df = pd.DataFrame({\n",
    "    'Name': movie_names,\n",
    "    'Year': movie_years,\n",
    "    'Rating': movie_ratings\n",
    "})\n",
    "\n",
    "print(df)"
   ]
  },
  {
   "cell_type": "code",
   "execution_count": 14,
   "id": "2f7d3583",
   "metadata": {},
   "outputs": [],
   "source": [
    "import requests\n",
    "from bs4 import BeautifulSoup\n",
    "\n",
    "url = \"https://www.patreon.com/coreyms\"\n",
    "response = requests.get(url)\n",
    "soup = BeautifulSoup(response.content, 'html.parser')\n",
    "\n",
    "posts = soup.find_all('div', class_='sc-fzqLLg')\n",
    "\n",
    "for post in posts:\n",
    "    heading = post.find('h2').text\n",
    "    date = post.find('time').text\n",
    "    content = post.find('div', class_='content').text\n",
    "    likes = post.find('span', class_='like-count').text\n",
    "    video_link = post.find('a', href=True)['href']\n",
    "\n",
    "    print(f\"Heading: {heading}\\nDate: {date}\\nContent: {content}\\nLikes: {likes}\\nYouTube Link: {video_link}\\n\")"
   ]
  },
  {
   "cell_type": "code",
   "execution_count": 8,
   "id": "0576bd2f",
   "metadata": {},
   "outputs": [],
   "source": [
    "import requests\n",
    "from bs4 import BeautifulSoup\n",
    "\n",
    "localities = ['Indira+Nagar', 'Jayanagar', 'Rajaji+Nagar']\n",
    "base_url = \"https://www.nobroker.in/property/rent/mumbai/?searchParam=W3sibGF0IjoxOC45MjQyNzM1LCJsb24iOjcyLjgxMjYwODMsInBsYWNlTmFtZSI6Ik5hdmktTXVtYmFpIE1vbnplbiJ9XQ==\"\n",
    "\n",
    "for locality in localities:\n",
    "    url = f\"https://www.nobroker.in/property/rent/{locality}\"\n",
    "    response = requests.get(url)\n",
    "    soup = BeautifulSoup(response.content, 'html.parser')\n",
    "\n",
    "    houses = soup.find_all('div', class_='card')\n",
    "    \n",
    "    for house in houses:\n",
    "        title = house.find('h2').text\n",
    "        location = house.find('div', class_='locality').text\n",
    "        area = house.find('div', class_='area').text\n",
    "        emi = house.find('div', class_='emi').text\n",
    "        price = house.find('div', class_='price').text\n",
    "        \n",
    "        print(f\"Title: {title}, Location: {location}, Area: {area}, EMI: {emi}, Price: {price}\")"
   ]
  },
  {
   "cell_type": "code",
   "execution_count": 9,
   "id": "42aad613",
   "metadata": {},
   "outputs": [
    {
     "ename": "AttributeError",
     "evalue": "'NoneType' object has no attribute 'text'",
     "output_type": "error",
     "traceback": [
      "\u001b[1;31m---------------------------------------------------------------------------\u001b[0m",
      "\u001b[1;31mAttributeError\u001b[0m                            Traceback (most recent call last)",
      "Cell \u001b[1;32mIn[9], line 12\u001b[0m\n\u001b[0;32m     10\u001b[0m \u001b[38;5;28;01mfor\u001b[39;00m product \u001b[38;5;129;01min\u001b[39;00m products:\n\u001b[0;32m     11\u001b[0m     product_name \u001b[38;5;241m=\u001b[39m product\u001b[38;5;241m.\u001b[39mfind(\u001b[38;5;124m'\u001b[39m\u001b[38;5;124mh3\u001b[39m\u001b[38;5;124m'\u001b[39m)\u001b[38;5;241m.\u001b[39mtext\n\u001b[1;32m---> 12\u001b[0m     price \u001b[38;5;241m=\u001b[39m product\u001b[38;5;241m.\u001b[39mfind(\u001b[38;5;124m'\u001b[39m\u001b[38;5;124mspan\u001b[39m\u001b[38;5;124m'\u001b[39m, class_\u001b[38;5;241m=\u001b[39m\u001b[38;5;124m'\u001b[39m\u001b[38;5;124mdiscountedPriceText\u001b[39m\u001b[38;5;124m'\u001b[39m)\u001b[38;5;241m.\u001b[39mtext\n\u001b[0;32m     13\u001b[0m     img_url \u001b[38;5;241m=\u001b[39m product\u001b[38;5;241m.\u001b[39mfind(\u001b[38;5;124m'\u001b[39m\u001b[38;5;124mimg\u001b[39m\u001b[38;5;124m'\u001b[39m, class_\u001b[38;5;241m=\u001b[39m\u001b[38;5;124m'\u001b[39m\u001b[38;5;124mproductImgTag\u001b[39m\u001b[38;5;124m'\u001b[39m)[\u001b[38;5;124m'\u001b[39m\u001b[38;5;124msrc\u001b[39m\u001b[38;5;124m'\u001b[39m]\n\u001b[0;32m     15\u001b[0m     \u001b[38;5;28mprint\u001b[39m(\u001b[38;5;124mf\u001b[39m\u001b[38;5;124m\"\u001b[39m\u001b[38;5;124mProduct: \u001b[39m\u001b[38;5;132;01m{\u001b[39;00mproduct_name\u001b[38;5;132;01m}\u001b[39;00m\u001b[38;5;124m, Price: \u001b[39m\u001b[38;5;132;01m{\u001b[39;00mprice\u001b[38;5;132;01m}\u001b[39;00m\u001b[38;5;124m, Image URL: \u001b[39m\u001b[38;5;132;01m{\u001b[39;00mimg_url\u001b[38;5;132;01m}\u001b[39;00m\u001b[38;5;124m\"\u001b[39m)\n",
      "\u001b[1;31mAttributeError\u001b[0m: 'NoneType' object has no attribute 'text'"
     ]
    }
   ],
   "source": [
    "import requests\n",
    "from bs4 import BeautifulSoup\n",
    "\n",
    "url = \"https://www.bewakoof.com/bestseller?sort=popular\"\n",
    "response = requests.get(url)\n",
    "soup = BeautifulSoup(response.content, 'html.parser')\n",
    "\n",
    "products = soup.find_all('div', class_='productCardBox')[:10]\n",
    "\n",
    "for product in products:\n",
    "    product_name = product.find('h3').text\n",
    "    price = product.find('span', class_='discountedPriceText').text\n",
    "    img_url = product.find('img', class_='productImgTag')['src']\n",
    "    \n",
    "    print(f\"Product: {product_name}, Price: {price}, Image URL: {img_url}\")"
   ]
  },
  {
   "cell_type": "code",
   "execution_count": null,
   "id": "fcb110bf",
   "metadata": {},
   "outputs": [],
   "source": [
    "import requests\n",
    "from bs4 import BeautifulSoup\n",
    "\n",
    "url = \"https://www.cnbc.com/world/?region=world\"\n",
    "response = requests.get(url)\n",
    "soup = BeautifulSoup(response.content, 'html.parser')\n",
    "\n",
    "articles = soup.find_all('div', class_='Card-title')\n",
    "\n",
    "for article in articles:\n",
    "    heading = article.text\n",
    "    news_link = article.find('a')['href']\n",
    "    date = article.find_previous_sibling('time')['datetime'] if article.find_previous_sibling('time') else \"No date\"\n",
    "\n",
    "    print(f\"Heading: {heading}, Date: {date}, Link: {news_link}\")"
   ]
  },
  {
   "cell_type": "code",
   "execution_count": null,
   "id": "11258e4c",
   "metadata": {},
   "outputs": [],
   "source": [
    "import requests\n",
    "from bs4 import BeautifulSoup\n",
    "\n",
    "url = \"https://www.keaipublishing.com/en/journals/artificial-intelligence-in-agriculture/most-downloaded-articles/\"\n",
    "response = requests.get(url)\n",
    "soup = BeautifulSoup(response.content, 'html.parser')\n",
    "\n",
    "articles = soup.find_all('div', class_='article-item')\n",
    "\n",
    "for article in articles:\n",
    "    title = article.find('h2').text\n",
    "    date = article.find('span', class_='article-date').text\n",
    "    author = article.find('span', class_='author').text\n",
    "    \n",
    "    print(f\"Title: {title}, Date: {date}, Author: {author}\")"
   ]
  },
  {
   "cell_type": "code",
   "execution_count": null,
   "id": "bf7d4466",
   "metadata": {},
   "outputs": [],
   "source": []
  }
 ],
 "metadata": {
  "kernelspec": {
   "display_name": "Python 3 (ipykernel)",
   "language": "python",
   "name": "python3"
  },
  "language_info": {
   "codemirror_mode": {
    "name": "ipython",
    "version": 3
   },
   "file_extension": ".py",
   "mimetype": "text/x-python",
   "name": "python",
   "nbconvert_exporter": "python",
   "pygments_lexer": "ipython3",
   "version": "3.11.5"
  }
 },
 "nbformat": 4,
 "nbformat_minor": 5
}
